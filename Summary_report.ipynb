{
  "cells": [
    {
      "cell_type": "markdown",
      "metadata": {
        "id": "view-in-github",
        "colab_type": "text"
      },
      "source": [
        "<a href=\"https://colab.research.google.com/github/mortenrosenloev/CPF-Practice-Project/blob/main/Summary_report.ipynb\" target=\"_parent\"><img src=\"https://colab.research.google.com/assets/colab-badge.svg\" alt=\"Open In Colab\"/></a>"
      ]
    },
    {
      "cell_type": "markdown",
      "id": "af4e05b9-f66c-442c-bf37-9e6052c41f74",
      "metadata": {
        "id": "af4e05b9-f66c-442c-bf37-9e6052c41f74"
      },
      "source": [
        "# CPF Algorithmic Trading Practice Project"
      ]
    },
    {
      "cell_type": "markdown",
      "id": "df452b40-241f-447a-bf6c-9179651254bc",
      "metadata": {
        "id": "df452b40-241f-447a-bf6c-9179651254bc"
      },
      "source": [
        "### Full Name: Morten Rosenløv Jensen"
      ]
    },
    {
      "cell_type": "markdown",
      "id": "01e8d45a-81a8-4c2e-9664-8fcb02086f91",
      "metadata": {
        "id": "01e8d45a-81a8-4c2e-9664-8fcb02086f91"
      },
      "source": [
        "#### Submission Date: xx-04-2025"
      ]
    },
    {
      "cell_type": "markdown",
      "id": "9aa7c0c8-4422-4a8c-b8d4-048830fd818d",
      "metadata": {
        "id": "9aa7c0c8-4422-4a8c-b8d4-048830fd818d"
      },
      "source": [
        "======================================================================"
      ]
    },
    {
      "cell_type": "markdown",
      "id": "adb6e141-4736-4f7d-aaf3-2e584a23f1ce",
      "metadata": {
        "id": "adb6e141-4736-4f7d-aaf3-2e584a23f1ce"
      },
      "source": [
        "### 1. Current understanding of central topics and tools"
      ]
    },
    {
      "cell_type": "markdown",
      "id": "a3cd70db-e04d-4134-8c1a-60dd4e8501e0",
      "metadata": {
        "id": "a3cd70db-e04d-4134-8c1a-60dd4e8501e0"
      },
      "source": [
        "- I have obtained a good general understanding of the supervised machine learning principles and application.\n",
        "- Setting up the python environment, importing data, preprocessing, splitting, normalization and lagging etc. is no longer challenging.\n",
        "- Creation of classes and python scripts that can run autonously on a server has also become easier after following the classes and working on it in the tutorials and smaller self-invented projects.\n",
        "- Many good helper tools have been tought in the different classes, some of qhich I actively use for live testing (screen and q).\n",
        "- I still need to further develop a deeper understanding of the different model types, their strengths and weaknesses to enable an easier selection of the optimal model to use for a give application.\n",
        "- I would also like to dig deeper into the reinforcement learning techniques.\n",
        "- Generating signals is only the first step in a successful trading system. I can see that it is very difficult to systematically outperform the market when including trading cost. The next step is to focus on developing and implementing a strong trade management system for stop-loss, take-profit etc."
      ]
    },
    {
      "cell_type": "markdown",
      "id": "dd69a151-7442-4e9d-93bc-88f70a23347a",
      "metadata": {
        "id": "dd69a151-7442-4e9d-93bc-88f70a23347a"
      },
      "source": [
        "### 2. Strengths and weaknesses as discovered during the week"
      ]
    },
    {
      "cell_type": "markdown",
      "id": "d9649641-66b6-44a0-9f8a-60064402b4c3",
      "metadata": {
        "id": "d9649641-66b6-44a0-9f8a-60064402b4c3"
      },
      "source": [
        "**Strengths:**\n",
        "- Good understanding of the structure and steps required to develop the models and implementing them.\n",
        "- Good understanding of `class` creation and application."
      ]
    },
    {
      "cell_type": "markdown",
      "id": "a0cd9d28-0e04-41ad-9f86-f671581e01f1",
      "metadata": {
        "id": "a0cd9d28-0e04-41ad-9f86-f671581e01f1"
      },
      "source": [
        "**Weaknesses:**\n",
        "- Tendency to want to include too many options in the scripts resulting in scripts that are sometimes  overly complicated and difficult to update/change.\n",
        "- I am not strong at working in the shell and setting up cloud server security, but will focus on improving these skills.\n",
        "- I am sometimes stroggeling with package version incompatabilities which can be tricky to solve."
      ]
    },
    {
      "cell_type": "markdown",
      "id": "2b61171e-2802-4965-b0ca-16bc6b9b9c4c",
      "metadata": {
        "id": "2b61171e-2802-4965-b0ca-16bc6b9b9c4c"
      },
      "source": [
        "### 3. Experiences in doing it on my own"
      ]
    },
    {
      "cell_type": "markdown",
      "id": "1c550e4b-b169-4074-8897-f86386806e94",
      "metadata": {
        "id": "1c550e4b-b169-4074-8897-f86386806e94"
      },
      "source": [
        "- I have been comfortable in establishing a structure for the work before I started any programming.\n",
        "- I have discovered that `accuracy` is not necessarily a good metric for screening model performance and compare models. Trade frequency and signal quality plays a more important role in the strategy performance.\n",
        "- I have had some problems with setting up a cloud server that keeps running when I disconnect my PC, but found out that a detached screen session was the solution."
      ]
    },
    {
      "cell_type": "markdown",
      "id": "0e908f88-4c5c-4350-b34d-9fe1b043e084",
      "metadata": {
        "id": "0e908f88-4c5c-4350-b34d-9fe1b043e084"
      },
      "source": [
        "### 4. Opportunities to improve the existing materials and resources"
      ]
    },
    {
      "cell_type": "markdown",
      "id": "9e75c521-d2d7-4e09-af87-4f6cc75376a4",
      "metadata": {
        "id": "9e75c521-d2d7-4e09-af87-4f6cc75376a4"
      },
      "source": [
        "Generelly, the CPF program is a very good and well structured with a study plan that clearly sets the weekly priorities. I like the focus on implementation above theory."
      ]
    },
    {
      "cell_type": "markdown",
      "id": "77855021-b578-408a-bf80-77a5c4e55449",
      "metadata": {
        "id": "77855021-b578-408a-bf80-77a5c4e55449"
      },
      "source": [
        "I have had some problems running notebooks from the older classes due to version incompatabilities. It would be good to include versions required to run the scripts (I think that that has been updated to some extent during the last months).  "
      ]
    },
    {
      "cell_type": "markdown",
      "id": "40c70244-b2f9-452b-aad7-6671f38a41b2",
      "metadata": {
        "id": "40c70244-b2f9-452b-aad7-6671f38a41b2"
      },
      "source": [
        "Having mostly focused on Algorithmic Trading and to some extent Asset Management, there are still many video classes that I have not had time to watch, so the following topics may already be covered in the material.  \n",
        "For me it would be interesting to participate in classes on:\n",
        "- Development and implementation of trade management (TP, SL, trailing SL)) and how such a system could be optimization using AI.\n",
        "- Optimal ML models and hyper-parameter optimization."
      ]
    },
    {
      "cell_type": "markdown",
      "id": "f40e2fc3-6be7-4dda-b6db-397707473968",
      "metadata": {
        "id": "f40e2fc3-6be7-4dda-b6db-397707473968"
      },
      "source": [
        "### 5. Other comments"
      ]
    },
    {
      "cell_type": "markdown",
      "id": "f3323bdd-0e22-4b18-b483-c1d1edf3cbe6",
      "metadata": {
        "id": "f3323bdd-0e22-4b18-b483-c1d1edf3cbe6"
      },
      "source": [
        "Relevant links to code and results:\n",
        "- Part 1: model development and backtesting (code can be executed in Google Colab):\n",
        "https://colab.research.google.com/github/mortenrosenloev/CPF-Practice-Project/blob/main/Practice_project_part_1.ipynb\n",
        "- Part 2: live testing (cannot be executed without an OANDA credentials file):\n"
      ]
    },
    {
      "cell_type": "code",
      "execution_count": null,
      "id": "cfe4809a-344f-4ef0-829b-863d40b480d2",
      "metadata": {
        "id": "cfe4809a-344f-4ef0-829b-863d40b480d2"
      },
      "outputs": [],
      "source": []
    }
  ],
  "metadata": {
    "kernelspec": {
      "display_name": "Python 3 (ipykernel)",
      "language": "python",
      "name": "python3"
    },
    "language_info": {
      "codemirror_mode": {
        "name": "ipython",
        "version": 3
      },
      "file_extension": ".py",
      "mimetype": "text/x-python",
      "name": "python",
      "nbconvert_exporter": "python",
      "pygments_lexer": "ipython3",
      "version": "3.10.16"
    },
    "colab": {
      "provenance": [],
      "include_colab_link": true
    }
  },
  "nbformat": 4,
  "nbformat_minor": 5
}