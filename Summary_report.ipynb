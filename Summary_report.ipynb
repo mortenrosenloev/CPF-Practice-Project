{
  "cells": [
    {
      "cell_type": "markdown",
      "metadata": {
        "id": "view-in-github",
        "colab_type": "text"
      },
      "source": [
        "<a href=\"https://colab.research.google.com/github/mortenrosenloev/CPF-Practice-Project/blob/main/Summary_report.ipynb\" target=\"_parent\"><img src=\"https://colab.research.google.com/assets/colab-badge.svg\" alt=\"Open In Colab\"/></a>"
      ]
    },
    {
      "cell_type": "markdown",
      "id": "af4e05b9-f66c-442c-bf37-9e6052c41f74",
      "metadata": {
        "id": "af4e05b9-f66c-442c-bf37-9e6052c41f74"
      },
      "source": [
        "# CPF Algorithmic Trading Practice Project"
      ]
    },
    {
      "cell_type": "markdown",
      "id": "df452b40-241f-447a-bf6c-9179651254bc",
      "metadata": {
        "id": "df452b40-241f-447a-bf6c-9179651254bc"
      },
      "source": [
        "### Full Name: Morten Rosenløv Jensen"
      ]
    },
    {
      "cell_type": "markdown",
      "id": "01e8d45a-81a8-4c2e-9664-8fcb02086f91",
      "metadata": {
        "id": "01e8d45a-81a8-4c2e-9664-8fcb02086f91"
      },
      "source": [
        "#### Submission Date: 23-04-2025"
      ]
    },
    {
      "cell_type": "markdown",
      "id": "9aa7c0c8-4422-4a8c-b8d4-048830fd818d",
      "metadata": {
        "id": "9aa7c0c8-4422-4a8c-b8d4-048830fd818d"
      },
      "source": [
        "======================================================================"
      ]
    },
    {
      "cell_type": "markdown",
      "id": "adb6e141-4736-4f7d-aaf3-2e584a23f1ce",
      "metadata": {
        "id": "adb6e141-4736-4f7d-aaf3-2e584a23f1ce"
      },
      "source": [
        "### 1. Current understanding of central topics and tools"
      ]
    },
    {
      "cell_type": "markdown",
      "id": "a3cd70db-e04d-4134-8c1a-60dd4e8501e0",
      "metadata": {
        "id": "a3cd70db-e04d-4134-8c1a-60dd4e8501e0"
      },
      "source": [
        "- I have obtained a solid general understanding of the principles and applications of supervised machine learning.\n",
        "- Setting up the Python environment, importing data, preprocessing, splitting, normalization, lagging, etc., is no longer challenging.\n",
        "- Creating classes and Python scripts that can run autonomously on a server has also become easier after attending the classes and working through the tutorials, as well as developing smaller self-initiated projects.\n",
        "- Many useful helper tools have been taught in the various classes, some of which I actively use for live testing (e.g., `screen` and `q`).\n",
        "- I still need to deepen my understanding of the different model types, including their strengths and weaknesses, to make it easier to select the optimal model for a given application.\n",
        "- I would also like to explore reinforcement learning techniques in more depth.\n",
        "- Generating signals is only the first step in building a successful trading system. I have realized that it is very difficult to systematically outperform the market when trading costs are taken into account.\n",
        "The next step for me is to focus on developing and implementing a robust trade management system, including mechanisms for stop-loss, take-profit, and other execution strategies."
      ]
    },
    {
      "cell_type": "markdown",
      "id": "dd69a151-7442-4e9d-93bc-88f70a23347a",
      "metadata": {
        "id": "dd69a151-7442-4e9d-93bc-88f70a23347a"
      },
      "source": [
        "### 2. Strengths and weaknesses as discovered during the week"
      ]
    },
    {
      "cell_type": "markdown",
      "id": "d9649641-66b6-44a0-9f8a-60064402b4c3",
      "metadata": {
        "id": "d9649641-66b6-44a0-9f8a-60064402b4c3"
      },
      "source": [
        "**Strengths:**\n",
        "- Good understanding of the structure and steps required to develop and implement models.\n",
        "- Solid grasp of `class` creation and its practical application."
      ]
    },
    {
      "cell_type": "markdown",
      "id": "a0cd9d28-0e04-41ad-9f86-f671581e01f1",
      "metadata": {
        "id": "a0cd9d28-0e04-41ad-9f86-f671581e01f1"
      },
      "source": [
        "**Weaknesses:**\n",
        "- I have a tendency to include too many options in my scripts, which can make them overly complex and difficult to maintain or modify.\n",
        "- I'm not yet confident working in the shell or setting up cloud server security, but I plan to focus on improving these skills.\n",
        "- I occasionally struggle with package version incompatibilities, which can be tricky to resolve."
      ]
    },
    {
      "cell_type": "markdown",
      "id": "2b61171e-2802-4965-b0ca-16bc6b9b9c4c",
      "metadata": {
        "id": "2b61171e-2802-4965-b0ca-16bc6b9b9c4c"
      },
      "source": [
        "### 3. Experiences in doing it on my own"
      ]
    },
    {
      "cell_type": "markdown",
      "id": "1c550e4b-b169-4074-8897-f86386806e94",
      "metadata": {
        "id": "1c550e4b-b169-4074-8897-f86386806e94"
      },
      "source": [
        "- I have felt comfortable establishing a clear structure for the work before starting any programming.\n",
        "- I’ve discovered that `accuracy` is not necessarily a good metric for evaluating model performance or comparing models. Trade frequency and signal quality play a more important role in overall strategy performance.\n",
        "- I encountered some challenges in setting up a cloud server that would continue running after disconnecting from my PC, but I found that using a detached `screen` session solved the issue."
      ]
    },
    {
      "cell_type": "markdown",
      "id": "0e908f88-4c5c-4350-b34d-9fe1b043e084",
      "metadata": {
        "id": "0e908f88-4c5c-4350-b34d-9fe1b043e084"
      },
      "source": [
        "### 4. Opportunities to improve the existing materials and resources"
      ]
    },
    {
      "cell_type": "markdown",
      "id": "9e75c521-d2d7-4e09-af87-4f6cc75376a4",
      "metadata": {
        "id": "9e75c521-d2d7-4e09-af87-4f6cc75376a4"
      },
      "source": [
        "Overall, the CPF program is very good and well-structured, with a study plan that clearly outlines the weekly priorities. I appreciate the emphasis on implementation over theory."
      ]
    },
    {
      "cell_type": "markdown",
      "id": "77855021-b578-408a-bf80-77a5c4e55449",
      "metadata": {
        "id": "77855021-b578-408a-bf80-77a5c4e55449"
      },
      "source": [
        "I have experienced some issues running notebooks from earlier classes due to version incompatibilities. It would be helpful to include specific package versions required to run the scripts smoothly (I believe this has already been updated to some extent over the past few months)."
      ]
    },
    {
      "cell_type": "markdown",
      "id": "40c70244-b2f9-452b-aad7-6671f38a41b2",
      "metadata": {
        "id": "40c70244-b2f9-452b-aad7-6671f38a41b2"
      },
      "source": [
        "Since I’ve mostly focused on Algorithmic Trading and, to some extent, Asset Management, there are still several video classes I haven’t had the chance to watch—so the following topics may already be covered in the material.\n",
        "However, I would be particularly interested in classes on:\n",
        "\n",
        "- The development and implementation of trade management systems (take-profit, stop-loss, trailing stop-loss), and how such systems could be optimized using AI.\n",
        "\n",
        "- Choosing optimal machine learning models and performing effective hyperparameter optimization."
      ]
    },
    {
      "cell_type": "markdown",
      "id": "f40e2fc3-6be7-4dda-b6db-397707473968",
      "metadata": {
        "id": "f40e2fc3-6be7-4dda-b6db-397707473968"
      },
      "source": [
        "### 5. Other comments"
      ]
    },
    {
      "cell_type": "markdown",
      "id": "f3323bdd-0e22-4b18-b483-c1d1edf3cbe6",
      "metadata": {
        "id": "f3323bdd-0e22-4b18-b483-c1d1edf3cbe6"
      },
      "source": [
        "Relevant links to code and results:\n",
        "- Part 1: model development and backtesting (code can be executed in Google Colab):\n",
        "https://colab.research.google.com/github/mortenrosenloev/CPF-Practice-Project/blob/main/Practice_project_part_1.ipynb\n",
        "- Part 2: live testing (cannot be executed without an OANDA credentials file).  \n",
        "Python scrip for live trade execution:  \n",
        "https://raw.githubusercontent.com/mortenrosenloev/CPF-Practice-Project/refs/heads/main/LiveTrader.py  \n",
        "Class used by LiveTrader.py for trading  \n",
        "https://raw.githubusercontent.com/mortenrosenloev/CPF-Practice-Project/refs/heads/main/KNNTrader.py\n",
        "\n",
        "\n"
      ]
    }
  ],
  "metadata": {
    "kernelspec": {
      "display_name": "Python 3 (ipykernel)",
      "language": "python",
      "name": "python3"
    },
    "language_info": {
      "codemirror_mode": {
        "name": "ipython",
        "version": 3
      },
      "file_extension": ".py",
      "mimetype": "text/x-python",
      "name": "python",
      "nbconvert_exporter": "python",
      "pygments_lexer": "ipython3",
      "version": "3.10.16"
    },
    "colab": {
      "provenance": [],
      "include_colab_link": true
    }
  },
  "nbformat": 4,
  "nbformat_minor": 5
}