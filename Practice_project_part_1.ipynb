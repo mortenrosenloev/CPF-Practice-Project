{
 "cells": [
  {
   "cell_type": "markdown",
   "id": "43bd442f-be6b-4fa1-82b6-7abf2f5d1e08",
   "metadata": {},
   "source": [
    "# CPF Algorithmic Trading Practice Project\n",
    "## Part 1 - Model Development and Backtest"
   ]
  },
  {
   "cell_type": "markdown",
   "id": "3de6cd93-1b58-4db3-9f4d-2196dff5187f",
   "metadata": {},
   "source": [
    "### Full Name: Morten Rosenløv Jensen"
   ]
  },
  {
   "cell_type": "markdown",
   "id": "4ba0c975-4b95-445d-93d6-17e6af9942d4",
   "metadata": {},
   "source": [
    "#### Submission Date: 14-04-2025"
   ]
  },
  {
   "cell_type": "markdown",
   "id": "1bb7ea99-ee24-41cd-9d50-eda67976efd6",
   "metadata": {},
   "source": [
    "======================================================================"
   ]
  },
  {
   "cell_type": "markdown",
   "id": "0528d24a-7391-486b-aa92-ca6ea0c324ed",
   "metadata": {},
   "source": [
    "**Project outline:**\n",
    "- Use OANDA API for data retrieval and live trading.\n",
    "- Instrument: 'EUR_USD'.\n",
    "- Bar length for backtesting and live trading: 5 min.\n",
    "- Backtesting period: 1 week.\n",
    "- Live trading period: 6 hours.\n",
    "- Use a classification model for prediction of the direction."
   ]
  },
  {
   "cell_type": "markdown",
   "id": "6859014d-9535-43ce-afdb-6ecd0dce3520",
   "metadata": {},
   "source": [
    "**Part 1 - Model development and backtest**\n",
    "1. Import historical data from OANDA.\n",
    "2. Add features.\n",
    "3. Normalize, add lags and split into train/test sets.\n",
    "4. Screen different classifier-models incl. ensemble and bagging models.\n",
    "5. Optimize the best performing model.\n",
    "6. Plotting model performance and save model for later use in live testing."
   ]
  },
  {
   "cell_type": "markdown",
   "id": "4f70736b-99d0-425d-a684-154970c835f1",
   "metadata": {},
   "source": [
    "**Part 2 - Implementation and live testing**\n",
    "- Not covered in this Notebook"
   ]
  },
  {
   "cell_type": "markdown",
   "id": "dae6592b-fc58-4289-a0ba-59ed14d3efec",
   "metadata": {},
   "source": [
    "### Imports"
   ]
  },
  {
   "cell_type": "code",
   "execution_count": null,
   "id": "1ef8d3b5-bab6-4e50-afcf-085b7cfe1edb",
   "metadata": {},
   "outputs": [],
   "source": [
    "# Package installation for Colab execution\n",
    "!pip install --quiet git+https://github.com/yhilpisch/tpqoa.git\n",
    "!pip install --quiet \n",
    "\n",
    "# Install TALib\n",
    "url = 'https://anaconda.org/conda-forge/libta-lib/0.4.0/download/linux-64/libta-lib-0.4.0-h166bdaf_1.tar.bz2'\n",
    "!curl -L $url | tar xj -C /usr/lib/x86_64-linux-gnu/ lib --strip-components=1\n",
    "!pip install conda-package-handling\n",
    "!wget https://anaconda.org/conda-forge/ta-lib/0.5.1/download/linux-64/ta-lib-0.5.1-py311h9ecbd09_0.conda\n",
    "!cph x ta-lib-0.5.1-py311h9ecbd09_0.conda\n",
    "!mv ./ta-lib-0.5.1-py311h9ecbd09_0/lib/python3.11/site-packages/talib /usr/local/lib/python3.11/dist-packages/"
   ]
  },
  {
   "cell_type": "code",
   "execution_count": 1,
   "id": "4b1c4ff8-579b-420d-a41f-f83e8453397e",
   "metadata": {},
   "outputs": [],
   "source": [
    "import os\n",
    "import tpqoa\n",
    "import numpy as np\n",
    "import pandas as pd\n",
    "from pylab import plt\n",
    "plt.style.use('seaborn-v0_8')\n",
    "import mplfinance as fplt\n",
    "import joblib\n",
    "import talib\n",
    "import matplotlib.dates as mdates\n",
    "from sklearn.preprocessing import StandardScaler \n",
    "from sklearn.model_selection import TimeSeriesSplit, cross_val_score\n",
    "from sklearn.ensemble import RandomForestClassifier, AdaBoostClassifier, BaggingClassifier\n",
    "from sklearn.tree import DecisionTreeClassifier\n",
    "from sklearn.neural_network import MLPClassifier\n",
    "from sklearn.linear_model import LogisticRegression\n",
    "from sklearn.naive_bayes import GaussianNB\n",
    "from sklearn.neighbors import KNeighborsClassifier\n",
    "from sklearn.tree import DecisionTreeClassifier\n",
    "from sklearn.svm import SVC\n",
    "from sklearn.metrics import accuracy_score\n",
    "from sklearn.model_selection import RandomizedSearchCV\n",
    "from sklearn.feature_selection import mutual_info_classif, SelectKBest, f_classif\n",
    "from sklearn.pipeline import Pipeline\n"
   ]
  },
  {
   "cell_type": "markdown",
   "id": "9faf3dd6-6731-4d70-9c87-ce30673b6588",
   "metadata": {},
   "source": [
    "### 1. 1. Import historical data from OANDA"
   ]
  },
  {
   "cell_type": "code",
   "execution_count": 2,
   "id": "b5ebd642-6af3-470f-954c-a9e7e8ddbaff",
   "metadata": {},
   "outputs": [],
   "source": [
    "path = 'data'  # path to folder containing Oanda config-file\n",
    "file = 'oanda.cfg' # name of Oanda config-file\n",
    "config_file = os.path.join(path, file)"
   ]
  },
  {
   "cell_type": "code",
   "execution_count": 3,
   "id": "9f01d61e-e7b2-4e88-a4b1-59af1ede2efc",
   "metadata": {},
   "outputs": [],
   "source": [
    "# Not used for Colab version where data have been retrieved\n",
    "#api = tpqoa.tpqoa(config_file)  # create an API connection to Oanda"
   ]
  },
  {
   "cell_type": "code",
   "execution_count": 4,
   "id": "1cd16819-7d88-41d8-9080-a8c30ce8e5a7",
   "metadata": {},
   "outputs": [],
   "source": [
    "# Arguments for data import\n",
    "symbol = 'EUR_USD'\n",
    "start = '2025-04-06'\n",
    "end = '2025-04-12'\n",
    "granularity = 'M5'\n",
    "prices = ['A', 'B', 'M']  # retrieve both bid and ask prices to calculate spread"
   ]
  },
  {
   "cell_type": "code",
   "execution_count": 5,
   "id": "4b606c11-ccf4-4c21-b183-a067f5ba7269",
   "metadata": {
    "scrolled": true
   },
   "outputs": [
    {
     "name": "stdout",
     "output_type": "stream",
     "text": [
      "Retrieving data from disk\n",
      "Retrieving data from disk\n",
      "Retrieving data from disk\n"
     ]
    }
   ],
   "source": [
    "raw = {}\n",
    "for price in prices:\n",
    "    file = f'{symbol}_{start}_{end}_{granularity}_{price}.csv'\n",
    "    data_file = os.path.join(path, file)\n",
    "    try:\n",
    "        raw[price] = pd.read_csv(data_file, index_col=0, parse_dates=True)\n",
    "        print('Retrieving data from disk')\n",
    "    except:\n",
    "        raw[price] = api.get_history(symbol, start, end, granularity, price)\n",
    "        raw[price].to_csv(data_file)\n",
    "        print('Retrieving data from OANDA')"
   ]
  },
  {
   "cell_type": "code",
   "execution_count": 6,
   "id": "d835aecd-8720-401d-ab23-3994a7575ee8",
   "metadata": {},
   "outputs": [
    {
     "data": {
      "text/html": [
       "<div>\n",
       "<style scoped>\n",
       "    .dataframe tbody tr th:only-of-type {\n",
       "        vertical-align: middle;\n",
       "    }\n",
       "\n",
       "    .dataframe tbody tr th {\n",
       "        vertical-align: top;\n",
       "    }\n",
       "\n",
       "    .dataframe thead th {\n",
       "        text-align: right;\n",
       "    }\n",
       "</style>\n",
       "<table border=\"1\" class=\"dataframe\">\n",
       "  <thead>\n",
       "    <tr style=\"text-align: right;\">\n",
       "      <th></th>\n",
       "      <th>open</th>\n",
       "      <th>high</th>\n",
       "      <th>low</th>\n",
       "      <th>close</th>\n",
       "      <th>volume</th>\n",
       "    </tr>\n",
       "    <tr>\n",
       "      <th>time</th>\n",
       "      <th></th>\n",
       "      <th></th>\n",
       "      <th></th>\n",
       "      <th></th>\n",
       "      <th></th>\n",
       "    </tr>\n",
       "  </thead>\n",
       "  <tbody>\n",
       "    <tr>\n",
       "      <th>2025-04-06 21:00:00</th>\n",
       "      <td>1.08926</td>\n",
       "      <td>1.08936</td>\n",
       "      <td>1.08926</td>\n",
       "      <td>1.08930</td>\n",
       "      <td>3</td>\n",
       "    </tr>\n",
       "    <tr>\n",
       "      <th>2025-04-06 21:05:00</th>\n",
       "      <td>1.08923</td>\n",
       "      <td>1.08957</td>\n",
       "      <td>1.08834</td>\n",
       "      <td>1.08846</td>\n",
       "      <td>133</td>\n",
       "    </tr>\n",
       "    <tr>\n",
       "      <th>2025-04-06 21:10:00</th>\n",
       "      <td>1.08846</td>\n",
       "      <td>1.08884</td>\n",
       "      <td>1.08814</td>\n",
       "      <td>1.08834</td>\n",
       "      <td>157</td>\n",
       "    </tr>\n",
       "    <tr>\n",
       "      <th>2025-04-06 21:15:00</th>\n",
       "      <td>1.08828</td>\n",
       "      <td>1.08900</td>\n",
       "      <td>1.08827</td>\n",
       "      <td>1.08898</td>\n",
       "      <td>160</td>\n",
       "    </tr>\n",
       "    <tr>\n",
       "      <th>2025-04-06 21:20:00</th>\n",
       "      <td>1.08898</td>\n",
       "      <td>1.08922</td>\n",
       "      <td>1.08845</td>\n",
       "      <td>1.08854</td>\n",
       "      <td>182</td>\n",
       "    </tr>\n",
       "  </tbody>\n",
       "</table>\n",
       "</div>"
      ],
      "text/plain": [
       "                        open     high      low    close  volume\n",
       "time                                                           \n",
       "2025-04-06 21:00:00  1.08926  1.08936  1.08926  1.08930       3\n",
       "2025-04-06 21:05:00  1.08923  1.08957  1.08834  1.08846     133\n",
       "2025-04-06 21:10:00  1.08846  1.08884  1.08814  1.08834     157\n",
       "2025-04-06 21:15:00  1.08828  1.08900  1.08827  1.08898     160\n",
       "2025-04-06 21:20:00  1.08898  1.08922  1.08845  1.08854     182"
      ]
     },
     "execution_count": 6,
     "metadata": {},
     "output_type": "execute_result"
    }
   ],
   "source": [
    "# Use mid-prices for the model\n",
    "data = raw['M'].copy()\n",
    "del data['complete']\n",
    "data.columns = ['open', 'high', 'low', 'close', 'volume']\n",
    "data.head()"
   ]
  },
  {
   "cell_type": "code",
   "execution_count": 7,
   "id": "02537f60-b289-4ef7-a29d-e21b8c49e252",
   "metadata": {},
   "outputs": [],
   "source": [
    "# Calculate the average spread\n",
    "spread = (raw['A']['c'] - raw['B']['c']).mean()"
   ]
  },
  {
   "cell_type": "code",
   "execution_count": 8,
   "id": "ad1b08a1-b1f3-4705-85aa-cf4d5c62bb1d",
   "metadata": {},
   "outputs": [
    {
     "data": {
      "text/plain": [
       "0.00016961774451893752"
      ]
     },
     "execution_count": 8,
     "metadata": {},
     "output_type": "execute_result"
    }
   ],
   "source": [
    "# Calculate the average log-trading cost (tc)\n",
    "tc = np.log(raw['A']['c'] / raw['B']['c']).mean()\n",
    "tc"
   ]
  },
  {
   "cell_type": "markdown",
   "id": "7547543f-eb95-423b-bf8e-dbd2a683c983",
   "metadata": {},
   "source": [
    "### 1.2. Add Features"
   ]
  },
  {
   "cell_type": "code",
   "execution_count": 9,
   "id": "0ea18495-0d78-45a3-8777-cde63b8ba06e",
   "metadata": {},
   "outputs": [],
   "source": [
    "data['r'] = np.log(data['close'] / data['close'].shift(1))\n",
    "data['d'] = np.where(data['r'] > 0, 1, 0)"
   ]
  },
  {
   "cell_type": "code",
   "execution_count": 10,
   "id": "1815e908-d50f-46aa-874b-c0e46c58c1f4",
   "metadata": {},
   "outputs": [],
   "source": [
    "# Trend\n",
    "data['SMA10'] = data['close'].rolling(10).mean()\n",
    "data['SMA30'] = data['close'].rolling(30).mean()\n",
    "data['ADX'] = talib.ADX(data['high'], data['low'], data['close'], timeperiod=14)\n",
    "data['PLUS_DI'] = talib.PLUS_DI(data['high'], data['low'], data['close'], timeperiod=14)\n",
    "data['MINUS_DI'] = talib.MINUS_DI(data['high'], data['low'], data['close'], timeperiod=14)\n",
    "\n",
    "# Momentum\n",
    "data['RSI_9'] = talib.RSI(data['close'], timeperiod=9)\n",
    "macd, macdsignal, macdhist = talib.MACD(data['close'])\n",
    "data['MACD'] = macd\n",
    "data['MACD_signal'] = macdsignal\n",
    "data['MACD_hist'] = macdhist\n",
    "\n",
    "\n",
    "# Volatility\n",
    "data['ATR'] = talib.ATR(data['high'], data['low'], data['close'], timeperiod=14)\n",
    "data['VOL10'] = data['r'].rolling(10).mean()\n",
    "data['VOL30'] = data['r'].rolling(30).mean()\n",
    "\n",
    "# Slope\n",
    "data['SMA10_SLOPE'] = np.arctan((data['SMA10'].shift(1)\n",
    "                                 - data['SMA10'].shift(5)) / 4)\n",
    "data['SMA30_SLOPE'] = np.arctan((data['SMA30'].shift(1)\n",
    "                                 - data['SMA30'].shift(5)) / 4)\n",
    "data['VOL10_SLPOE'] = np.arctan((data['VOL10'].shift(1)\n",
    "                                 - data['VOL10'].shift(5)) / 4)\n",
    "data['VOL30_SLPOE'] = np.arctan((data['VOL30'].shift(1)\n",
    "                                 - data['VOL30'].shift(5)) / 4)\n",
    "\n",
    "# Price - Action\n",
    "data['CO'] = data['close'] / data['open'] - 1\n",
    "data['OHLC4'] = (data['open'] + data['high']\n",
    "                 + data['low'] + data['close']) / 4\n",
    "\n",
    "# Calendar - cyclical (sin/cos) time of day\n",
    "tod = data.index.hour + data.index.minute / 60\n",
    "data['TOD_SIN'] = np.sin(2 * np.pi * tod  /24)\n",
    "data['TOD_COS'] = np.cos(2 * np.pi * tod  /24)"
   ]
  },
  {
   "cell_type": "code",
   "execution_count": 11,
   "id": "c41e7d67-dbbc-4b12-9d76-88e51f8f072f",
   "metadata": {},
   "outputs": [],
   "source": [
    "# List of features\n",
    "exclude = ['open', 'high', 'low', 'close', 'volume', 'd']\n",
    "base_features = [x for x in data.columns if x not in exclude]\n",
    "# Calendar features should not be lagged\n",
    "no_lag_features = ['TOD_SIN', 'TOD_COS']"
   ]
  },
  {
   "cell_type": "markdown",
   "id": "a1add61c-0189-479c-b20a-6b960c3b6824",
   "metadata": {},
   "source": [
    "### 1.3. Normalize, add lags and split into train/test sets"
   ]
  },
  {
   "cell_type": "code",
   "execution_count": 12,
   "id": "0b4ea428-9408-46a7-ab24-5b3292e50ec2",
   "metadata": {},
   "outputs": [],
   "source": [
    "split = 0.8  #use 80% for training, 20% for testing"
   ]
  },
  {
   "cell_type": "code",
   "execution_count": 13,
   "id": "8edceff7-3657-4423-8af1-6dbda4955b1a",
   "metadata": {},
   "outputs": [],
   "source": [
    "split_index = int(len(data) * split)"
   ]
  },
  {
   "cell_type": "code",
   "execution_count": 14,
   "id": "e08904a9-28a4-4de0-b916-09f8607bbc00",
   "metadata": {},
   "outputs": [],
   "source": [
    "train = data[base_features].iloc[:split_index].copy()\n",
    "test = data[base_features].iloc[split_index:].copy()"
   ]
  },
  {
   "cell_type": "code",
   "execution_count": 15,
   "id": "9ec4f9cb-1702-4bbd-b908-462029f1276c",
   "metadata": {},
   "outputs": [],
   "source": [
    "scaler = StandardScaler()\n",
    "scaler.fit_transform(train)\n",
    "data_ = pd.DataFrame(scaler.transform(data[base_features]), \n",
    "                     index=data.index, columns=base_features)"
   ]
  },
  {
   "cell_type": "code",
   "execution_count": 16,
   "id": "4ac20e65-b4d7-47ef-b190-131274e403f7",
   "metadata": {},
   "outputs": [],
   "source": [
    "# Add lags\n",
    "lags = 10  # Number of lags\n",
    "lag_features = []  # empty list for the lagged features columns\n",
    "lagged_dfs = []\n",
    "for feat in base_features:\n",
    "    for lag in range(1, lags + 1):\n",
    "        col_ = f'{feat}_lag{lag}'\n",
    "        if feat not in no_lag_features:\n",
    "            lag_features.append(col_)\n",
    "            lagged_col = data_[feat].shift(lag).rename(col_)\n",
    "            lagged_dfs.append(lagged_col)\n",
    "            #data_[col_] = data_[feat].shift(lag)\n",
    "            \n",
    "        elif lag == 1:  # calendar features are only lagged once\n",
    "            lag_features.append(col_)\n",
    "            lagged_col = data_[feat].shift(lag).rename(col_)\n",
    "            lagged_dfs.append(lagged_col)\n",
    "            #data_[col_] = data_[feat].shift(lag)\n",
    "lagged_df = pd.concat(lagged_dfs, axis=1)\n",
    "data_ = pd.concat([data_, lagged_df], axis=1)\n",
    "data_.dropna(inplace=True) "
   ]
  },
  {
   "cell_type": "code",
   "execution_count": 17,
   "id": "8dc777d7-c85e-40de-b0b1-b0cfc2a09716",
   "metadata": {},
   "outputs": [],
   "source": [
    "# Create train/test splits based on normalized and lagged data\n",
    "X_train = data_[lag_features].iloc[:split_index].copy()\n",
    "y_train = data['d'].loc[X_train.index].copy()  # align to X_train index after dropna()\n",
    "X_test = data_[lag_features].iloc[split_index:].copy()\n",
    "y_test = data['d'].loc[X_test.index].copy() # align to X_test index after dropna()"
   ]
  },
  {
   "cell_type": "code",
   "execution_count": 18,
   "id": "6c1d0972-c57d-4c60-856e-2f728ddbba65",
   "metadata": {},
   "outputs": [
    {
     "name": "stdout",
     "output_type": "stream",
     "text": [
      "Train data have same starting point:   True\n",
      "Train data have same end point:        True\n",
      "Test data have same starting point:    True\n",
      "Test data have same end point:         True\n"
     ]
    }
   ],
   "source": [
    "# Verify that train/test X/y match\n",
    "print(f'{\"Train data have same starting point:\".ljust(38)} {X_train.index[0] == y_train.index[0]}')\n",
    "print(f'{\"Train data have same end point:\".ljust(38)} {X_train.index[-1] == y_train.index[-1]}')\n",
    "print(f'{\"Test data have same starting point:\".ljust(38)} {X_test.index[0] == y_test.index[0]}')\n",
    "print(f'{\"Test data have same end point:\".ljust(38)} {X_test.index[-1] == y_test.index[-1]}')"
   ]
  },
  {
   "cell_type": "code",
   "execution_count": 19,
   "id": "23e25931-01d9-4ed5-905f-d13dab70a8e8",
   "metadata": {},
   "outputs": [
    {
     "name": "stdout",
     "output_type": "stream",
     "text": [
      "y_train zeros: 46.31%\n",
      "y_train ones : 53.69%\n"
     ]
    }
   ],
   "source": [
    "# Evaluate potential imbalance in the labels data\n",
    "one = len(y_train.loc[y_train == 1]) / len(y_train)\n",
    "zero = 1 - one\n",
    "print(f'y_train zeros: {zero * 100:.2f}%')\n",
    "print(f'y_train ones : {one * 100:.2f}%')"
   ]
  },
  {
   "cell_type": "markdown",
   "id": "32fc482c-165d-49cd-940e-9d0c9d21754e",
   "metadata": {},
   "source": [
    "**This means that a model can achieve an accuracy of 53.7%\n",
    "just by always predicting '1'**"
   ]
  },
  {
   "cell_type": "markdown",
   "id": "e330a39c-7400-421a-930e-464f2cbbe134",
   "metadata": {},
   "source": [
    "### 1.4. Screen different classifier-models"
   ]
  },
  {
   "cell_type": "code",
   "execution_count": 20,
   "id": "2cae2dad-e525-4756-81f2-9c04603c491c",
   "metadata": {},
   "outputs": [],
   "source": [
    "# Models 1 - 6:   Scikit-learn classifier models\n",
    "# Model 7:        Scikit-learn neural network model\n",
    "# Models 8 - 14:  BaggingClassifier models with different base-estimators\n",
    "# Models 14 - 16: AbdBoostClassifier models with different base-estimators\n",
    "models_1 = {\n",
    "    'Model_1': LogisticRegression(max_iter=1000, random_state=100),\n",
    "    'Model_2': GaussianNB(),\n",
    "    'Model_3': KNeighborsClassifier(),\n",
    "    'Model_4': DecisionTreeClassifier(random_state=100),\n",
    "    'Model_5': RandomForestClassifier(random_state=100),\n",
    "    'Model_6': SVC(random_state=100),\n",
    "    'Model_7': MLPClassifier([128, 128], max_iter=2000, early_stopping=True, random_state=100),\n",
    "    'Model_8': BaggingClassifier(estimator=LogisticRegression(max_iter=1000, random_state=100),\n",
    "                                 random_state=100,\n",
    "                                 n_estimators=10),\n",
    "    'Model_9': BaggingClassifier(estimator=GaussianNB(),\n",
    "                                 random_state=100,\n",
    "                                 n_estimators=10),\n",
    "    'Model_10': BaggingClassifier(estimator=KNeighborsClassifier(),\n",
    "                                 random_state=100,\n",
    "                                 n_estimators=10),\n",
    "    'Model_11': BaggingClassifier(estimator=DecisionTreeClassifier(random_state=100),\n",
    "                                 random_state=100,\n",
    "                                 n_estimators=10),\n",
    "    'Model_12': BaggingClassifier(estimator=RandomForestClassifier(random_state=100),\n",
    "                                 random_state=100,\n",
    "                                 n_estimators=10),\n",
    "    'Model_13': BaggingClassifier(estimator=SVC(random_state=100),\n",
    "                                 random_state=100,\n",
    "                                 n_estimators=10),\n",
    "    'Model_14': BaggingClassifier(estimator=MLPClassifier(\n",
    "        [128, 128], max_iter=2000, early_stopping=True, random_state=100),\n",
    "                                 random_state=100,\n",
    "                                 n_estimators=10),\n",
    "    'Model_15': AdaBoostClassifier(estimator=LogisticRegression(max_iter=1000, random_state=100),\n",
    "                                 random_state=100,\n",
    "                                 n_estimators=10),\n",
    "    'Model_16': AdaBoostClassifier(estimator=DecisionTreeClassifier(random_state=100),\n",
    "                                 random_state=100,\n",
    "                                 n_estimators=10)         }"
   ]
  },
  {
   "cell_type": "code",
   "execution_count": 21,
   "id": "f1cac8cc-9727-43b5-a644-2449ea35ae69",
   "metadata": {},
   "outputs": [
    {
     "name": "stdout",
     "output_type": "stream",
     "text": [
      "Accuracy score for Model_1    | Accuracy score: 0.5679\n",
      "Accuracy score for Model_2    | Accuracy score: 0.5267\n",
      "Accuracy score for Model_3    | Accuracy score: 0.5679\n",
      "Accuracy score for Model_4    | Accuracy score: 0.4979\n",
      "Accuracy score for Model_5    | Accuracy score: 0.5062\n",
      "Accuracy score for Model_6    | Accuracy score: 0.5309\n",
      "Accuracy score for Model_7    | Accuracy score: 0.5556\n",
      "Accuracy score for Model_8    | Accuracy score: 0.5638\n",
      "Accuracy score for Model_9    | Accuracy score: 0.5473\n",
      "Accuracy score for Model_10   | Accuracy score: 0.5226\n",
      "Accuracy score for Model_11   | Accuracy score: 0.5062\n",
      "Accuracy score for Model_12   | Accuracy score: 0.4938\n",
      "Accuracy score for Model_13   | Accuracy score: 0.5103\n",
      "Accuracy score for Model_14   | Accuracy score: 0.5144\n",
      "Accuracy score for Model_15   | Accuracy score: 0.5556\n",
      "Accuracy score for Model_16   | Accuracy score: 0.5103\n"
     ]
    }
   ],
   "source": [
    "for model in models_1:\n",
    "    class_model = models_1.get(model)\n",
    "    name = model\n",
    "    class_model.fit(X_train, y_train)  \n",
    "    y_pred = class_model.predict(X_test)\n",
    "    acc = accuracy_score(y_test, y_pred)\n",
    "    print(f'Accuracy score for {name.ljust(10)} | Accuracy score: {acc:.4f}')"
   ]
  },
  {
   "cell_type": "markdown",
   "id": "a96d28a9-548e-4537-a84f-185005ce321f",
   "metadata": {},
   "source": [
    "### <u>Part Conclusion:<u>\n",
    "- Best accuracies are achieved for models 1, 3, 7, 8 and 15.\n",
    "- But do they also give the best strategy returns?"
   ]
  },
  {
   "cell_type": "markdown",
   "id": "19d6f0fe-18a1-4442-9235-1c13b818dc54",
   "metadata": {},
   "source": [
    "**Evaluate strategy returns with/without trading cost**"
   ]
  },
  {
   "cell_type": "code",
   "execution_count": 22,
   "id": "398ffab7-d75f-47cf-9391-fac25894d30e",
   "metadata": {},
   "outputs": [],
   "source": [
    "# Helper function for model fit, predict and calculation of performance\n",
    "def calculate_performance(model, models, X_train, y_train, X_test, y_test):\n",
    "    class_model = models.get(model)\n",
    "    name = model\n",
    "    class_model.fit(X_train, y_train)  \n",
    "    results = data['r'].loc[X_test.index].copy().to_frame()  # initialize a results dataframe\n",
    "    results['pred'] = class_model.predict(X_test)\n",
    "    results['pos'] = np.where(results['pred'] > 0.5, 1, -1)  # long/short position    \n",
    "    results['s'] = results['pos'] * results['r']  # strategy returns\n",
    "    # Strategy returns adjusted for trading cost\n",
    "    results['s_tc'] = np.where(results['pos'].diff() != 0, results['s'] - tc, results['s'])\n",
    "    strategy = np.exp(results['s'].sum())\n",
    "    strategy_tc = np.exp(results['s_tc'].sum())\n",
    "    trades = sum(results['pos'].diff() != 0)\n",
    "    acc = accuracy_score(results['pred'], y_test)\n",
    "    print(f'Returns for {name.ljust(10)} | Strategy: {strategy:.4f} \\\n",
    "| Strategy incl. tc: {strategy_tc:.4f} | Acc: {acc:.4f} | #trades: {trades}')\n",
    "    return results"
   ]
  },
  {
   "cell_type": "code",
   "execution_count": 23,
   "id": "03a44cf1-c25a-4496-9c56-6a13ec1146f3",
   "metadata": {
    "scrolled": true
   },
   "outputs": [
    {
     "name": "stdout",
     "output_type": "stream",
     "text": [
      "==================================================================================================\n",
      "Buy-and-hold returns: 1.0040\n",
      "==================================================================================================\n",
      "Returns for Model_1    | Strategy: 1.0119 | Strategy incl. tc: 1.0027 | Acc: 0.5679 | #trades: 54\n",
      "Returns for Model_2    | Strategy: 1.0002 | Strategy incl. tc: 0.9982 | Acc: 0.5267 | #trades: 12\n",
      "Returns for Model_3    | Strategy: 1.0262 | Strategy incl. tc: 1.0145 | Acc: 0.5679 | #trades: 68\n",
      "Returns for Model_4    | Strategy: 0.9978 | Strategy incl. tc: 0.9813 | Acc: 0.4979 | #trades: 98\n",
      "Returns for Model_5    | Strategy: 0.9913 | Strategy incl. tc: 0.9802 | Acc: 0.5062 | #trades: 66\n",
      "Returns for Model_6    | Strategy: 1.0062 | Strategy incl. tc: 1.0014 | Acc: 0.5309 | #trades: 28\n",
      "Returns for Model_7    | Strategy: 1.0064 | Strategy incl. tc: 1.0040 | Acc: 0.5556 | #trades: 14\n",
      "Returns for Model_8    | Strategy: 1.0083 | Strategy incl. tc: 0.9991 | Acc: 0.5638 | #trades: 54\n",
      "Returns for Model_9    | Strategy: 1.0188 | Strategy incl. tc: 1.0157 | Acc: 0.5473 | #trades: 18\n",
      "Returns for Model_10   | Strategy: 1.0023 | Strategy incl. tc: 0.9905 | Acc: 0.5226 | #trades: 70\n",
      "Returns for Model_11   | Strategy: 0.9885 | Strategy incl. tc: 0.9742 | Acc: 0.5062 | #trades: 86\n",
      "Returns for Model_12   | Strategy: 0.9994 | Strategy incl. tc: 0.9919 | Acc: 0.4938 | #trades: 44\n",
      "Returns for Model_13   | Strategy: 0.9994 | Strategy incl. tc: 0.9943 | Acc: 0.5103 | #trades: 30\n",
      "Returns for Model_14   | Strategy: 0.9880 | Strategy incl. tc: 0.9787 | Acc: 0.5144 | #trades: 56\n",
      "Returns for Model_15   | Strategy: 1.0044 | Strategy incl. tc: 0.9969 | Acc: 0.5556 | #trades: 44\n",
      "Returns for Model_16   | Strategy: 1.0090 | Strategy incl. tc: 0.9924 | Acc: 0.5103 | #trades: 98\n"
     ]
    }
   ],
   "source": [
    "# Calculate strategy returns for all models\n",
    "results = data['r'].loc[X_test.index].copy().to_frame()  # initialize a results dataframe\n",
    "base = np.exp(results['r'].sum())\n",
    "print(98*'=')\n",
    "print(f'Buy-and-hold returns: {base:.4f}')\n",
    "print(98*'=')\n",
    "for model in models_1:\n",
    "    calculate_performance(model, models_1, X_train, y_train, X_test, y_test)"
   ]
  },
  {
   "cell_type": "markdown",
   "id": "a4ca92de-e907-4552-870e-171cdae2e9f7",
   "metadata": {
    "jp-MarkdownHeadingCollapsed": true
   },
   "source": [
    "### <u>Part Conclusion:<u>\n",
    "- Several models outperform the pasive banchmark (buy-and-hold).\n",
    "- However when including trading cost, only three models (slightly) outperform the baseline.\n",
    "- Best model incl. trading cost is Model_9: `BaggingClassifier(estimator=GaussianNB())`.\n",
    "- Model 3: `KNeighborsClassifier()` has a fair performance and more trades, i.e. more 'action' during live test.\n",
    "- From here-on we will evaluate optimizations on model 3: `KNeighborsClassifier()`."
   ]
  },
  {
   "cell_type": "markdown",
   "id": "0a869b5c-dc18-40eb-a1b6-59003a425268",
   "metadata": {},
   "source": [
    "### 1.5. Optimize the best performing model"
   ]
  },
  {
   "cell_type": "markdown",
   "id": "793b8438-1d0a-46d8-abc5-c0a2efbd342c",
   "metadata": {},
   "source": [
    "#### 1.5.a. Optimize model hyper-parameters"
   ]
  },
  {
   "cell_type": "raw",
   "id": "743b3468-d6c3-4e29-9bcf-45d63b9f852e",
   "metadata": {},
   "source": [
    "# Selected baseline_model\n",
    "baseline_model = KNeighborsClassifier()"
   ]
  },
  {
   "cell_type": "code",
   "execution_count": 24,
   "id": "72734692-ff56-4675-a17d-1c1df69e4c62",
   "metadata": {},
   "outputs": [
    {
     "name": "stdout",
     "output_type": "stream",
     "text": [
      "Fitting 5 folds for each of 20 candidates, totalling 100 fits\n",
      "Best parameters: {'weights': 'distance', 'p': 1, 'n_neighbors': 11, 'metric': 'minkowski'}\n",
      "Best score: 0.5183\n"
     ]
    }
   ],
   "source": [
    "knn_model = KNeighborsClassifier()\n",
    "\n",
    "param_dist = {\n",
    "    'n_neighbors': [3, 5, 7, 11, 15, 21],\n",
    "    'weights': ['uniform', 'distance'],\n",
    "    'metric': ['euclidean', 'manhattan', 'minkowski'],\n",
    "    'p': [1, 2]  # only relevant for metric='minkowski'\n",
    "}\n",
    "\n",
    "random_search = RandomizedSearchCV(\n",
    "    estimator=knn_model,\n",
    "    param_distributions=param_dist,\n",
    "    n_iter=20,\n",
    "    scoring='accuracy',\n",
    "    n_jobs=-1,\n",
    "    cv=TimeSeriesSplit(n_splits=5),\n",
    "    verbose=1,\n",
    "    random_state=100\n",
    ")\n",
    "\n",
    "random_search.fit(X_train, y_train)\n",
    "\n",
    "print(f\"Best parameters: {random_search.best_params_}\")\n",
    "print(f\"Best score: {random_search.best_score_:.4f}\")\n"
   ]
  },
  {
   "cell_type": "markdown",
   "id": "d090b658-e482-4e9c-9887-0ca4314d2a63",
   "metadata": {},
   "source": [
    "- The optimized results are equal to the default values except for max_features"
   ]
  },
  {
   "cell_type": "code",
   "execution_count": 25,
   "id": "d7853ccf-3350-47cf-9ac7-2dccaeaac041",
   "metadata": {},
   "outputs": [
    {
     "name": "stdout",
     "output_type": "stream",
     "text": [
      "==================================================================================================\n",
      "Buy-and-hold returns: 1.0040\n",
      "==================================================================================================\n",
      "Returns for Baseline   | Strategy: 1.0262 | Strategy incl. tc: 1.0145 | Acc: 0.5679 | #trades: 68\n",
      "Returns for Optimized  | Strategy: 1.0037 | Strategy incl. tc: 0.9957 | Acc: 0.5267 | #trades: 47\n"
     ]
    }
   ],
   "source": [
    "# Based on this hyper-parameter optimization we fix the model and calculate performance\n",
    "models_2 = {\n",
    "    'Baseline': KNeighborsClassifier(),\n",
    "    'Optimized': KNeighborsClassifier(weights='distance',\n",
    "                                     p=1,\n",
    "                                     n_neighbors=11,\n",
    "                                     metric='minkowski')\n",
    "}\n",
    "print(98*'=')\n",
    "print(f'Buy-and-hold returns: {base:.4f}')\n",
    "print(98*'=')\n",
    "for model in models_2:\n",
    "    results = calculate_performance(model, models_2, X_train, y_train, X_test, y_test)"
   ]
  },
  {
   "cell_type": "markdown",
   "id": "4fb319a8-5b07-4a40-8169-e3a67fdb7b37",
   "metadata": {},
   "source": [
    "### <u>Part Conclusion:<u>\n",
    "- Optimization attempts for better hyper-parameters did not improve the out-of-sample returns."
   ]
  },
  {
   "cell_type": "markdown",
   "id": "fb8749e7-24cc-4a1f-b682-e20dbca33e06",
   "metadata": {},
   "source": [
    "#### 1.5.a. Optimize data features (for baseline model only)\n",
    "- Evaluate if model performance improves when picking a smaller number of the best features.\n",
    "- Method: `SelectKBest`"
   ]
  },
  {
   "cell_type": "code",
   "execution_count": 26,
   "id": "2ecea7f4-163d-4a07-ae76-7aed5303e89f",
   "metadata": {},
   "outputs": [
    {
     "data": {
      "text/plain": [
       "192"
      ]
     },
     "execution_count": 26,
     "metadata": {},
     "output_type": "execute_result"
    }
   ],
   "source": [
    "# Number of features\n",
    "len(lag_features)"
   ]
  },
  {
   "cell_type": "code",
   "execution_count": 27,
   "id": "30debff1-0017-48ed-9f0f-efb98471d9af",
   "metadata": {
    "scrolled": true
   },
   "outputs": [
    {
     "name": "stdout",
     "output_type": "stream",
     "text": [
      "===============================================================================================\n",
      "Fraction: 0.2 | Results:\n",
      "===============================================================================================\n",
      "Returns for Baseline   | Strategy: 1.0047 | Strategy incl. tc: 0.9919 | Acc: 0.5021 | #trades: 76\n",
      "===============================================================================================\n",
      "Fraction: 0.3 | Results:\n",
      "===============================================================================================\n",
      "Returns for Baseline   | Strategy: 1.0025 | Strategy incl. tc: 0.9903 | Acc: 0.4979 | #trades: 72\n",
      "===============================================================================================\n",
      "Fraction: 0.4 | Results:\n",
      "===============================================================================================\n",
      "Returns for Baseline   | Strategy: 1.0170 | Strategy incl. tc: 1.0036 | Acc: 0.5144 | #trades: 78\n",
      "===============================================================================================\n",
      "Fraction: 0.5 | Results:\n",
      "===============================================================================================\n",
      "Returns for Baseline   | Strategy: 1.0150 | Strategy incl. tc: 1.0007 | Acc: 0.5185 | #trades: 84\n",
      "===============================================================================================\n",
      "Fraction: 0.6 | Results:\n",
      "===============================================================================================\n",
      "Returns for Baseline   | Strategy: 1.0113 | Strategy incl. tc: 0.9976 | Acc: 0.5144 | #trades: 80\n",
      "===============================================================================================\n",
      "Fraction: 0.7 | Results:\n",
      "===============================================================================================\n",
      "Returns for Baseline   | Strategy: 0.9942 | Strategy incl. tc: 0.9813 | Acc: 0.5267 | #trades: 77\n",
      "===============================================================================================\n",
      "Fraction: 0.8 | Results:\n",
      "===============================================================================================\n",
      "Returns for Baseline   | Strategy: 1.0357 | Strategy incl. tc: 1.0228 | Acc: 0.5926 | #trades: 74\n",
      "===============================================================================================\n",
      "Fraction: 0.9 | Results:\n",
      "===============================================================================================\n",
      "Returns for Baseline   | Strategy: 1.0243 | Strategy incl. tc: 1.0118 | Acc: 0.5679 | #trades: 72\n",
      "===============================================================================================\n",
      "Fraction: 1.0 | Results:\n",
      "===============================================================================================\n",
      "Returns for Baseline   | Strategy: 1.0262 | Strategy incl. tc: 1.0145 | Acc: 0.5679 | #trades: 68\n"
     ]
    }
   ],
   "source": [
    "# Evaluete performance for different fractions of the total features list\n",
    "fractions = np.arange(0.2, 1.1, 0.1).round(1) # percentage of features we want to retain\n",
    "features_list = {} # dictionary for the best features\n",
    "\n",
    "for fraction in fractions:\n",
    "    models_3 = {'Baseline': KNeighborsClassifier()}\n",
    "    model = 'Baseline'\n",
    "    top_k = int(len(lag_features) * fraction)\n",
    "\n",
    "    selector = SelectKBest(f_classif, k=top_k)\n",
    "    best = selector.fit(X_train, y_train).get_support(indices=True)\n",
    "    selected_features = X_train.columns[best]\n",
    "    features_list[fraction] = selected_features\n",
    "    X_train_best = data_[selected_features].iloc[:split_index].copy()\n",
    "    X_test_best = data_[selected_features].iloc[split_index:].copy()\n",
    "\n",
    "    print(95*'=')\n",
    "    print(f'Fraction: {fraction} | Results:')\n",
    "    print(95*'=')\n",
    "    results = calculate_performance(model, models_3, X_train_best, y_train, X_test_best, y_test)"
   ]
  },
  {
   "cell_type": "markdown",
   "id": "0c420e28-696a-4162-9e02-ba710ac374e6",
   "metadata": {},
   "source": [
    "#### <u>Part Conclusion:<u>\n",
    "- Improved model accuracy and returns when selecting the best 80% features.\n",
    "- We save the list of features and use it with the model going forward"
   ]
  },
  {
   "cell_type": "code",
   "execution_count": 28,
   "id": "5137550c-8b52-49c7-9bbf-5586c194e831",
   "metadata": {},
   "outputs": [
    {
     "name": "stdout",
     "output_type": "stream",
     "text": [
      "===============================================================================================\n",
      "Fraction: 1.0 | Results:\n",
      "===============================================================================================\n",
      "Returns for Baseline   | Strategy: 1.0357 | Strategy incl. tc: 1.0228 | Acc: 0.5926 | #trades: 74\n"
     ]
    }
   ],
   "source": [
    "selected_features = features_list[0.8]  # picking the best result\n",
    "X_train_best = data_[selected_features].iloc[:split_index].copy()\n",
    "X_test_best = data_[selected_features].iloc[split_index:].copy()\n",
    "print(95*'=')\n",
    "print(f'Fraction: {fraction} | Results:')\n",
    "print(95*'=')\n",
    "results = calculate_performance(model, models_3, X_train_best, y_train, X_test_best, y_test)"
   ]
  },
  {
   "cell_type": "markdown",
   "id": "6f404cea-e88f-4e8d-bb5a-b587f5aba7a5",
   "metadata": {},
   "source": [
    "### 1.6. Plotting model performance and save model for later use in live testing"
   ]
  },
  {
   "cell_type": "code",
   "execution_count": 29,
   "id": "9ded61ad-38ba-49b5-9684-065e577f73dc",
   "metadata": {},
   "outputs": [
    {
     "data": {
      "image/png": "[encoded data removed]",
      "text/plain": [
       "<Figure size 800x550 with 1 Axes>"
      ]
     },
     "metadata": {},
     "output_type": "display_data"
    }
   ],
   "source": [
    "# Plotting the returns\n",
    "plt.plot(fig_size=(10, 6))\n",
    "plt.plot(results[['r', 's', 's_tc']].dropna().cumsum().apply(np.exp), \n",
    "         label=[symbol, 'strategy', 'strategy incl. tc'])\n",
    "plt.xticks(rotation=90)\n",
    "plt.gca().xaxis.set_major_formatter(mdates.DateFormatter('%Y-%m-%d\\n%H:%M'))\n",
    "plt.legend();"
   ]
  },
  {
   "cell_type": "code",
   "execution_count": 30,
   "id": "89d565e4-9be8-4caf-97a6-a6ee3b0a9240",
   "metadata": {},
   "outputs": [],
   "source": [
    "# Create candle stick chart with long/short trade positions\n",
    "trades = results['pos'].copy().to_frame()\n",
    "trades['trade'] = np.where(trades['pos'].diff() != 0, 1, np.nan)\n",
    "trades['long'] = np.where((trades['trade']==1) & (trades['pos']==1), 1, np.nan)\n",
    "trades['short'] = np.where((trades['trade']==1) & (trades['pos']==-1), 1, np.nan)\n",
    "# for better location of chart:\n",
    "trades['long'] = trades['long'] * data.loc[X_test.index]['low'] - 0.002\n",
    "trades['short'] = trades['short'] * data.loc[X_test.index]['high'] + 0.002"
   ]
  },
  {
   "cell_type": "code",
   "execution_count": 31,
   "id": "29273bf8-9b07-4bdd-8198-d93df8e0ea92",
   "metadata": {},
   "outputs": [
    {
     "data": {
      "image/png": "[encoded data removed]",
      "text/plain": [
       "<Figure size 800x575 with 2 Axes>"
      ]
     },
     "metadata": {},
     "output_type": "display_data"
    }
   ],
   "source": [
    "adp_1 = fplt.make_addplot(trades['long'], type='scatter',\n",
    "                        markersize=50, marker='^', color='green', label='going long')\n",
    "adp_2 = fplt.make_addplot(trades['short'], type='scatter',\n",
    "                        markersize=50, marker='v', color='red', label='going short')\n",
    "fplt.plot(data.loc[X_test.index], type='candle', style='charles', addplot=[adp_1, adp_2])"
   ]
  },
  {
   "cell_type": "markdown",
   "id": "cb9a15f3-aea1-4e12-ba0f-f2d40ea07c82",
   "metadata": {},
   "source": [
    "**Create and save a `joblib` file for live test implementation in Step 2.**"
   ]
  },
  {
   "cell_type": "code",
   "execution_count": 32,
   "id": "83c8241b-ce42-4211-9ff0-52e8408c1397",
   "metadata": {},
   "outputs": [
    {
     "name": "stdout",
     "output_type": "stream",
     "text": [
      "0.5925925925925926\n"
     ]
    },
    {
     "data": {
      "text/plain": [
       "['knn_bundle.joblib']"
      ]
     },
     "execution_count": 32,
     "metadata": {},
     "output_type": "execute_result"
    }
   ],
   "source": [
    "model = KNeighborsClassifier()\n",
    "model.fit(X_train_best, y_train)\n",
    "# just for verificetion, we print the acuracy_score to check it is correct\n",
    "acc = accuracy_score(model.predict(X_test_best), y_test)\n",
    "print(acc)\n",
    "\n",
    "# Save pipeline for later live-testing implementation\n",
    "joblib.dump({'scaler': scaler,\n",
    "             'model': model,\n",
    "            'features': selected_features.tolist()},\n",
    "            'knn_bundle.joblib')"
   ]
  },
  {
   "cell_type": "markdown",
   "id": "5fa326b8-2194-4948-bf89-4bc5547bb9fc",
   "metadata": {},
   "source": [
    "## <u>Conclusion:<u>\n",
    "- A screening of 16 different models indicated that `KNeighborsClassifier` performs well and has a fair amount of trades.\n",
    "- However, must models struggle to out-perform the buy-and-hold baseline when including trading cost.\n",
    "- Attempts to optimize hyper-parameters did not improve the results further.\n",
    "- Attempts to reduce the number of features gave improved results at 80% of the features.\n",
    "- Note: the train/test data sets are small to increase calculation speed.\n",
    "=> The model may not perform well going forward."
   ]
  }
 ],
 "metadata": {
  "kernelspec": {
   "display_name": "Python 3 (ipykernel)",
   "language": "python",
   "name": "python3"
  },
  "language_info": {
   "codemirror_mode": {
    "name": "ipython",
    "version": 3
   },
   "file_extension": ".py",
   "mimetype": "text/x-python",
   "name": "python",
   "nbconvert_exporter": "python",
   "pygments_lexer": "ipython3",
   "version": "3.10.16"
  }
 },
 "nbformat": 4,
 "nbformat_minor": 5
}
